{
 "cells": [
  {
   "cell_type": "markdown",
   "metadata": {},
   "source": [
    "Github地址：https://github.com/hbh112233abc/pdfplumber/blob/stable/README-CN.md#%E6%8F%90%E5%8F%96%E8%A1%A8%E6%A0%BC"
   ]
  },
  {
   "cell_type": "code",
   "execution_count": 3,
   "metadata": {},
   "outputs": [],
   "source": [
    "import pdfplumber\n",
    "import pandas as pd"
   ]
  },
  {
   "cell_type": "markdown",
   "metadata": {},
   "source": [
    "参考来源：https://www.zhihu.com/tardis/bd/art/353397002?source_id=1001"
   ]
  },
  {
   "cell_type": "code",
   "execution_count": 4,
   "metadata": {},
   "outputs": [
    {
     "data": {
      "text/plain": [
       "{'Author': 'gyh',\n",
       " 'CreationDate': \"D:20240317102723+08'00'\",\n",
       " 'ModDate': \"D:20240317102723+08'00'\",\n",
       " 'Producer': 'Microsoft® Excel® 2016',\n",
       " 'Creator': 'Microsoft® Excel® 2016'}"
      ]
     },
     "execution_count": 4,
     "metadata": {},
     "output_type": "execute_result"
    }
   ],
   "source": [
    "res_path = 'pdftoexcel/color.pdf'\n",
    "res_pdf = pdfplumber.open(res_path)\n",
    "# 文档信息\n",
    "res_pdf.metadata"
   ]
  },
  {
   "cell_type": "markdown",
   "metadata": {},
   "source": [
    "### 页信息"
   ]
  },
  {
   "cell_type": "code",
   "execution_count": 5,
   "metadata": {},
   "outputs": [
    {
     "data": {
      "text/plain": [
       "1"
      ]
     },
     "execution_count": 5,
     "metadata": {},
     "output_type": "execute_result"
    }
   ],
   "source": [
    "# 页数\n",
    "len(res_pdf.pages)"
   ]
  },
  {
   "cell_type": "code",
   "execution_count": 6,
   "metadata": {},
   "outputs": [
    {
     "name": "stdout",
     "output_type": "stream",
     "text": [
      "输出将是一个 CSV，包含 PDF 中每个字符、行和矩形的信息: {'matrix': (1, 0, 0, 1, 52.8, 778.32), 'fontname': 'ABCDEE+等线', 'adv': 6.35904, 'upright': True, 'x0': 52.8, 'y0': 775.75872, 'x1': 59.15904, 'y1': 786.79872, 'width': 6.35904, 'height': 11.039999999999964, 'size': 11.039999999999964, 'mcid': 0, 'tag': 'P', 'object_type': 'char', 'page_number': 1, 'ncs': 'DeviceGray', 'text': 'X', 'stroking_color': (0,), 'stroking_pattern': None, 'non_stroking_color': (0,), 'non_stroking_pattern': None, 'top': 55.121279999999956, 'bottom': 66.16127999999992, 'doctop': 55.121279999999956}\n",
      "页码1\n",
      "页宽 595.32\n",
      "页高841.92\n"
     ]
    }
   ],
   "source": [
    "# 提取首页,读取信息\n",
    "first_page = res_pdf.pages[0]\n",
    "print('输出将是一个 CSV，包含 PDF 中每个字符、行和矩形的信息:', first_page.chars[0])\n",
    "print(f'页码{first_page.page_number}')\n",
    "print('页宽', first_page.width)\n",
    "print('页高{}'.format(first_page.height))"
   ]
  },
  {
   "cell_type": "code",
   "execution_count": 7,
   "metadata": {},
   "outputs": [
    {
     "data": {
      "text/plain": [
       "'X1 X2 Color\\n-2.5 2.8 Blue\\n-1.5 1.8 Blue\\n-0.8 2.8 Blue\\n-0.3 0.8 Blue\\n1.1 2.1 Blue\\n1.6 3 Blue\\n3.2 3.2 Blue\\n0 -2.2 Yellow\\n0 2 Yellow\\n2.2 -0.8 Yellow\\n2.5 0.3 Yellow\\n3.9 0.3 Yellow\\n3.9 2.9 Yellow\\n4.1 -1.3 Yellow\\n4.3 1.8 Yellow\\n-3.2 1 Green\\n-2.7 -0.5 Green\\n-2 -0.4 Green\\n-1.9 -2 Green\\n-1.5 0.5 Green\\n-1 1.5 Green\\n0.2 -0.7 Green\\n1.5 -1.3 Green'"
      ]
     },
     "execution_count": 7,
     "metadata": {},
     "output_type": "execute_result"
    }
   ],
   "source": [
    "# 提取文本\n",
    "first_text = first_page.extract_text()\n",
    "first_text"
   ]
  },
  {
   "cell_type": "markdown",
   "metadata": {},
   "source": [
    "### 表格读取和设置"
   ]
  },
  {
   "cell_type": "code",
   "execution_count": 39,
   "metadata": {},
   "outputs": [
    {
     "name": "stdout",
     "output_type": "stream",
     "text": [
      "[[['X2', '', 'Color'], ['-2.5', '2.8', 'Blue'], ['-1.5', '1.8', 'Blue'], ['-0.8', '2.8', 'Blue'], ['-0.3', '0.8', 'Blue'], ['1.1', '2.1', 'Blue'], ['1.6', '3', 'Blue'], ['3.2', '3.2', 'Blue'], ['0', '-2.2', 'Yellow'], ['0', '2', 'Yellow'], ['2.2', '-0.8', 'Yellow'], ['2.5', '0.3', 'Yellow'], ['3.9', '0.3', 'Yellow'], ['3.9', '2.9', 'Yellow'], ['4.1', '-1.3', 'Yellow'], ['4.3', '1.8', 'Yellow'], ['-3.2', '1', 'Green'], ['-2.7', '-0.5', 'Green'], ['-2', '-0.4', 'Green'], ['-1.9', '-2', 'Green'], ['-1.5', '0.5', 'Green'], ['-1', '1.5', 'Green'], ['0.2', '-0.7', 'Green'], ['1.5', '-1.3', 'Green']]]\n"
     ]
    }
   ],
   "source": [
    "res_path = 'pdftoexcel/color.pdf'\n",
    "res_pdf = pdfplumber.open(res_path)\n",
    "# 提取表格,限于全框线表格\n",
    "table_page = res_pdf.pages[0]\n",
    "\n",
    "# 读取表格，返回列表\n",
    "config_dict_01 = {\"vertical_strategy\": \"lines_strict\",\n",
    "               \"horizontal_strategy\": \"lines_strict\"}\n",
    "\n",
    "# 三线表格设定尝试\n",
    "config_dict_02 = {\"vertical_strategy\": \"text\",\n",
    "               \"horizontal_strategy\": \"text\"}\n",
    "\n",
    "# 全部无线框\n",
    "config_dict_03 = {\"vertical_strategy\": \"text\",\n",
    "               \"horizontal_strategy\": \"text\"}\n",
    "\n",
    "\n",
    "extract_table = table_page.extract_tables(table_settings=config_dict_02)\n",
    "print(extract_table)"
   ]
  },
  {
   "cell_type": "code",
   "execution_count": 23,
   "metadata": {},
   "outputs": [],
   "source": [
    "# 转换为pd格式\n",
    "table_pd = pd.DataFrame(extract_table[1:], columns=extract_table[0])\n",
    "\n",
    "save_path = 'pdftoexcel/ipynb_excel.xlsx'\n",
    "table_pd.to_excel(save_path)"
   ]
  },
  {
   "cell_type": "markdown",
   "metadata": {},
   "source": [
    "### 可视化"
   ]
  },
  {
   "cell_type": "code",
   "execution_count": 21,
   "metadata": {},
   "outputs": [
    {
     "data": {
      "image/png": "[encoded data removed]",
      "text/plain": [
       "<pdfplumber.display.PageImage at 0x1b41a463eb0>"
      ]
     },
     "execution_count": 21,
     "metadata": {},
     "output_type": "execute_result"
    }
   ],
   "source": [
    "im = first_page.to_image()\n",
    "im.draw_rects(first_page.extract_words())"
   ]
  }
 ],
 "metadata": {
  "kernelspec": {
   "display_name": "Python 3",
   "language": "python",
   "name": "python3"
  },
  "language_info": {
   "codemirror_mode": {
    "name": "ipython",
    "version": 3
   },
   "file_extension": ".py",
   "mimetype": "text/x-python",
   "name": "python",
   "nbconvert_exporter": "python",
   "pygments_lexer": "ipython3",
   "version": "3.8.18"
  }
 },
 "nbformat": 4,
 "nbformat_minor": 2
}
