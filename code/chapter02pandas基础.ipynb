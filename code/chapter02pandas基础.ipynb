{
 "cells": [
  {
   "cell_type": "markdown",
   "metadata": {},
   "source": [
    "## 2.pandas基础"
   ]
  },
  {
   "cell_type": "markdown",
   "metadata": {},
   "source": [
    "### 前置包安装"
   ]
  },
  {
   "cell_type": "code",
   "execution_count": 1,
   "metadata": {},
   "outputs": [],
   "source": [
    "# ! pip install xlrd\n",
    "# # ! pip install xlwt\n",
    "# ! pip install openpyxl"
   ]
  },
  {
   "cell_type": "code",
   "execution_count": 2,
   "metadata": {},
   "outputs": [
    {
     "data": {
      "text/plain": [
       "'1.5.3'"
      ]
     },
     "execution_count": 2,
     "metadata": {},
     "output_type": "execute_result"
    }
   ],
   "source": [
    "import numpy as np\n",
    "import pandas as pd\n",
    "pd.__version__"
   ]
  },
  {
   "cell_type": "markdown",
   "metadata": {},
   "source": [
    "### 2.1文件的读取和写入🎇"
   ]
  },
  {
   "cell_type": "markdown",
   "metadata": {},
   "source": [
    "#### 文件的读取"
   ]
  },
  {
   "cell_type": "code",
   "execution_count": 3,
   "metadata": {},
   "outputs": [],
   "source": [
    "df_csv = pd.read_csv('data/my_csv.csv')\n",
    "df_txt = pd.read_table('data/my_table.txt')\n",
    "df_excel = pd.read_excel('data/my_excel.xlsx') # 第一行不作为列名"
   ]
  },
  {
   "cell_type": "code",
   "execution_count": 4,
   "metadata": {},
   "outputs": [
    {
     "name": "stdout",
     "output_type": "stream",
     "text": [
      "   col1 col2  col3    col4      col5\n",
      "0     2    a   1.4   apple  2020/1/1\n",
      "1     3    b   3.4  banana  2020/1/2\n",
      "2     6    c   2.5  orange  2020/1/5\n",
      "3     5    d   3.2   lemon  2020/1/7\n",
      "      0     1     2       3         4\n",
      "0  col1  col2  col3    col4      col5\n",
      "1     2     a   1.4   apple  2020/1/1\n",
      "2     3     b   3.4  banana  2020/1/2\n",
      "3     6     c   2.5  orange  2020/1/5\n",
      "4     5     d   3.2   lemon  2020/1/7\n",
      "           col3    col4      col5\n",
      "col1 col2                        \n",
      "2    a      1.4   apple  2020/1/1\n",
      "3    b      3.4  banana  2020/1/2\n",
      "6    c      2.5  orange  2020/1/5\n",
      "5    d      3.2   lemon  2020/1/7\n",
      "   col1  col3\n",
      "0     2   1.4\n",
      "1     3   3.4\n",
      "2     6   2.5\n",
      "3     5   3.2\n",
      "   col1  col3\n",
      "0     2   1.4\n",
      "1     3   3.4\n",
      "2     6   2.5\n",
      "3     5   3.2\n",
      "   col1 col2  col3    col4       col5\n",
      "0     2    a   1.4   apple 2020-01-01\n",
      "1     3    b   3.4  banana 2020-01-02\n",
      "2     6    c   2.5  orange 2020-01-05\n",
      "3     5    d   3.2   lemon 2020-01-07\n",
      "   col1 col2  col3    col4      col5\n",
      "0     2    a   1.4   apple  2020/1/1\n",
      "1     3    b   3.4  banana  2020/1/2\n"
     ]
    }
   ],
   "source": [
    "df_csv = pd.read_csv('data/my_csv.csv')\n",
    "print(df_csv)\n",
    "\n",
    "# 第一行不作为列名\n",
    "df_csv = pd.read_csv('data/my_csv.csv', header=None)\n",
    "print(df_csv)\n",
    "\n",
    "# index_col将某一列或几列作为索引\n",
    "df_csv = pd.read_csv('data/my_csv.csv', index_col=['col1', 'col2'])\n",
    "print(df_csv)\n",
    "\n",
    "# 读取列的集合\n",
    "df_csv = pd.read_csv('data/my_csv.csv', usecols=['col1', 'col3'])\n",
    "print(df_csv)\n",
    "df_csv = pd.read_csv('data/my_csv.csv', usecols=[0, 2])\n",
    "print(df_csv)\n",
    "\n",
    "# 转化为时间的列\n",
    "# df_csv = pd.read_csv('data/my_csv.csv', parse_dates=[4])\n",
    "df_csv = pd.read_csv('data/my_csv.csv', parse_dates=['col5'])\n",
    "print(df_csv)\n",
    "\n",
    "# 读取的数据行数\n",
    "df_csv = pd.read_csv('data/my_csv.csv', nrows=2)\n",
    "print(df_csv)"
   ]
  },
  {
   "cell_type": "code",
   "execution_count": 5,
   "metadata": {},
   "outputs": [
    {
     "name": "stdout",
     "output_type": "stream",
     "text": [
      "              col1 |||| col2\n",
      "0  TS |||| This is an apple.\n",
      "1    GQ |||| My name is Bob.\n",
      "2         WT |||| Well done!\n",
      "3    PT |||| May I help you?\n",
      "使用自定义分隔符后(separator)\n",
      "  col1                 col2\n",
      "0   TS    This is an apple.\n",
      "1   GQ      My name is Bob.\n",
      "2   WT           Well done!\n",
      "3   PT      May I help you?\n"
     ]
    }
   ],
   "source": [
    "# 使用read_table的自定义分隔符的参数sep\n",
    "df_txt = pd.read_table('data/my_table_special_sep.txt')\n",
    "print(df_txt)\n",
    "\n",
    "# 使用read_table的自定义分隔符的参数sep,并自定义引擎\n",
    "# sep中使用的为正则表达式，使用\\进行转义\n",
    "print(\"使用自定义分隔符后(separator)\")\n",
    "df_txt = pd.read_table('data/my_table_special_sep.txt', sep='\\|\\|\\|\\|', engine='python')\n",
    "print(df_txt)"
   ]
  },
  {
   "cell_type": "markdown",
   "metadata": {},
   "source": [
    "#### 文件的写入"
   ]
  },
  {
   "cell_type": "code",
   "execution_count": 11,
   "metadata": {},
   "outputs": [
    {
     "name": "stdout",
     "output_type": "stream",
     "text": [
      "   col1 col2  col3    col4      col5\n",
      "0     2    a   1.4   apple  2020/1/1\n",
      "1     3    b   3.4  banana  2020/1/2\n",
      "2     6    c   2.5  orange  2020/1/5\n",
      "3     5    d   3.2   lemon  2020/1/7\n"
     ]
    }
   ],
   "source": [
    "# 写入数据时，将index设置为false可消除索引\n",
    "df_excel = pd.read_excel('data/my_excel.xlsx')\n",
    "print(df_excel)\n",
    "df_excel.to_excel('data/excel_saved.xlsx', index=False)"
   ]
  },
  {
   "cell_type": "code",
   "execution_count": 51,
   "metadata": {},
   "outputs": [
    {
     "name": "stdout",
     "output_type": "stream",
     "text": [
      "   col1 col2  col3             col4\n",
      "0     2    a   1.4   apple 2020/1/1\n",
      "1     3    b   3.4  banana 2020/1/2\n",
      "2     6    c   2.5  orange 2020/1/5\n",
      "3     5    d   3.2   lemon 2020/1/7\n"
     ]
    }
   ],
   "source": [
    "# 借助csv写入txt文本数据\n",
    "df_txt = pd.read_table('data/my_table.txt')\n",
    "print(df_txt)\n",
    "df_txt.to_csv('data/txt_saved.txt', sep='\\t', index=False)\n",
    "# df_txt.to_csv('data/txt_saved_demo.txt', index=False)"
   ]
  },
  {
   "cell_type": "code",
   "execution_count": 52,
   "metadata": {},
   "outputs": [
    {
     "name": "stdout",
     "output_type": "stream",
     "text": [
      "|    |   col1 | col2   |   col3 | col4   | col5     |\n",
      "|---:|-------:|:-------|-------:|:-------|:---------|\n",
      "|  0 |      2 | a      |    1.4 | apple  | 2020/1/1 |\n",
      "|  1 |      3 | b      |    3.4 | banana | 2020/1/2 |\n",
      "\\begin{tabular}{lrlrll}\n",
      "\\toprule\n",
      "{} &  col1 & col2 &  col3 &    col4 &      col5 \\\\\n",
      "\\midrule\n",
      "0 &     2 &    a &   1.4 &   apple &  2020/1/1 \\\\\n",
      "1 &     3 &    b &   3.4 &  banana &  2020/1/2 \\\\\n",
      "\\bottomrule\n",
      "\\end{tabular}\n",
      "\n"
     ]
    },
    {
     "name": "stderr",
     "output_type": "stream",
     "text": [
      "C:\\Users\\Wanggs\\AppData\\Local\\Temp\\ipykernel_4000\\2294710654.py:4: FutureWarning: In future versions `DataFrame.to_latex` is expected to utilise the base implementation of `Styler.to_latex` for formatting and rendering. The arguments signature may therefore change. It is recommended instead to use `DataFrame.style.to_latex` which also contains additional functionality.\n",
      "  print(df_csv.to_latex())\n"
     ]
    }
   ],
   "source": [
    "# 将表格转换为markdown或latex语言\n",
    "# 需安装tabulate包\n",
    "print(df_csv.to_markdown())\n",
    "print(df_csv.to_latex())\n"
   ]
  },
  {
   "cell_type": "markdown",
   "metadata": {},
   "source": [
    "### 2.2 基本数据结构"
   ]
  },
  {
   "cell_type": "markdown",
   "metadata": {},
   "source": [
    "#### series--一维数据"
   ]
  },
  {
   "cell_type": "code",
   "execution_count": 53,
   "metadata": {},
   "outputs": [
    {
     "name": "stdout",
     "output_type": "stream",
     "text": [
      "demo_index\n",
      "hi              100\n",
      "none              q\n",
      "20      {'dic1': 5}\n",
      "Name: demo_series, dtype: object\n"
     ]
    },
    {
     "data": {
      "text/plain": [
       "100"
      ]
     },
     "execution_count": 53,
     "metadata": {},
     "output_type": "execute_result"
    }
   ],
   "source": [
    "# series：data,index,dtype,name\n",
    "# object代表一种混合类型\n",
    "demo = pd.Series(data=[100, 'q', {'dic1':5}],\n",
    "                 index=pd.Index(['hi', 'none', 20], name='demo_index'),\n",
    "                 name='demo_series',\n",
    "                 dtype='object')\n",
    "print(demo)\n",
    "\n",
    "# 通过索引取出对应的值\n",
    "demo[20]\n",
    "demo['hi']"
   ]
  },
  {
   "cell_type": "code",
   "execution_count": 54,
   "metadata": {},
   "outputs": [
    {
     "name": "stdout",
     "output_type": "stream",
     "text": [
      "[100 'q' {'dic1': 5}]\n",
      "Index(['hi', 'none', 20], dtype='object', name='demo_index')\n",
      "object\n",
      "demo_series\n",
      "(3,)\n"
     ]
    }
   ],
   "source": [
    "# 获取series的属性\n",
    "print(demo.values)\n",
    "print(demo.index)\n",
    "print(demo.dtype)\n",
    "print(demo.name)\n",
    "\n",
    "# 获取序列的长度\n",
    "print(demo.shape)"
   ]
  },
  {
   "cell_type": "markdown",
   "metadata": {},
   "source": [
    "#### dataframe"
   ]
  },
  {
   "cell_type": "code",
   "execution_count": 55,
   "metadata": {},
   "outputs": [
    {
     "name": "stdout",
     "output_type": "stream",
     "text": [
      "       col0 col1  col2\n",
      "row_0     1    a   1.2\n",
      "row_1     2    b   2.2\n",
      "row_2     3    c   3.2\n"
     ]
    }
   ],
   "source": [
    "data = [[1, 'a', 1.2], [2, 'b', 2.2], [3, 'c', 3.2]]\n",
    "# 行索引index,列索引columns\n",
    "df = pd.DataFrame(data=data,\n",
    "                  index=['row_%d'%i for i in range(3)],\n",
    "                  columns=['col0', 'col1', 'col2'])\n",
    "print(df)"
   ]
  },
  {
   "cell_type": "code",
   "execution_count": 56,
   "metadata": {},
   "outputs": [
    {
     "data": {
      "text/html": [
       "<div>\n",
       "<style scoped>\n",
       "    .dataframe tbody tr th:only-of-type {\n",
       "        vertical-align: middle;\n",
       "    }\n",
       "\n",
       "    .dataframe tbody tr th {\n",
       "        vertical-align: top;\n",
       "    }\n",
       "\n",
       "    .dataframe thead th {\n",
       "        text-align: right;\n",
       "    }\n",
       "</style>\n",
       "<table border=\"1\" class=\"dataframe\">\n",
       "  <thead>\n",
       "    <tr style=\"text-align: right;\">\n",
       "      <th></th>\n",
       "      <th>col0</th>\n",
       "      <th>col1</th>\n",
       "      <th>col2</th>\n",
       "    </tr>\n",
       "  </thead>\n",
       "  <tbody>\n",
       "    <tr>\n",
       "      <th>row_0</th>\n",
       "      <td>1</td>\n",
       "      <td>q</td>\n",
       "      <td>0.1</td>\n",
       "    </tr>\n",
       "    <tr>\n",
       "      <th>row_1</th>\n",
       "      <td>2</td>\n",
       "      <td>w</td>\n",
       "      <td>0.2</td>\n",
       "    </tr>\n",
       "    <tr>\n",
       "      <th>row_2</th>\n",
       "      <td>3</td>\n",
       "      <td>e</td>\n",
       "      <td>-0.4</td>\n",
       "    </tr>\n",
       "  </tbody>\n",
       "</table>\n",
       "</div>"
      ],
      "text/plain": [
       "       col0 col1  col2\n",
       "row_0     1    q   0.1\n",
       "row_1     2    w   0.2\n",
       "row_2     3    e  -0.4"
      ]
     },
     "execution_count": 56,
     "metadata": {},
     "output_type": "execute_result"
    }
   ],
   "source": [
    "demo = pd.DataFrame(data={'col0':[1,2,3], 'col1':list('qwe'), 'col2':[.1,.2,-.4]},\n",
    "                    index=['row_%d'%i for i in range(3)])\n",
    "demo"
   ]
  },
  {
   "cell_type": "code",
   "execution_count": 57,
   "metadata": {},
   "outputs": [
    {
     "data": {
      "text/html": [
       "<div>\n",
       "<style scoped>\n",
       "    .dataframe tbody tr th:only-of-type {\n",
       "        vertical-align: middle;\n",
       "    }\n",
       "\n",
       "    .dataframe tbody tr th {\n",
       "        vertical-align: top;\n",
       "    }\n",
       "\n",
       "    .dataframe thead th {\n",
       "        text-align: right;\n",
       "    }\n",
       "</style>\n",
       "<table border=\"1\" class=\"dataframe\">\n",
       "  <thead>\n",
       "    <tr style=\"text-align: right;\">\n",
       "      <th></th>\n",
       "      <th>col0</th>\n",
       "      <th>col2</th>\n",
       "    </tr>\n",
       "  </thead>\n",
       "  <tbody>\n",
       "    <tr>\n",
       "      <th>row_0</th>\n",
       "      <td>1</td>\n",
       "      <td>0.1</td>\n",
       "    </tr>\n",
       "    <tr>\n",
       "      <th>row_1</th>\n",
       "      <td>2</td>\n",
       "      <td>0.2</td>\n",
       "    </tr>\n",
       "    <tr>\n",
       "      <th>row_2</th>\n",
       "      <td>3</td>\n",
       "      <td>-0.4</td>\n",
       "    </tr>\n",
       "  </tbody>\n",
       "</table>\n",
       "</div>"
      ],
      "text/plain": [
       "       col0  col2\n",
       "row_0     1   0.1\n",
       "row_1     2   0.2\n",
       "row_2     3  -0.4"
      ]
     },
     "execution_count": 57,
     "metadata": {},
     "output_type": "execute_result"
    }
   ],
   "source": [
    "# 索引取值\n",
    "demo['col0']\n",
    "demo[['col0', 'col2']]"
   ]
  },
  {
   "cell_type": "code",
   "execution_count": 58,
   "metadata": {},
   "outputs": [
    {
     "name": "stdout",
     "output_type": "stream",
     "text": [
      "[[1 'q' 0.1]\n",
      " [2 'w' 0.2]\n",
      " [3 'e' -0.4]]\n",
      "col0      int64\n",
      "col1     object\n",
      "col2    float64\n",
      "dtype: object\n",
      "Index(['row_0', 'row_1', 'row_2'], dtype='object')\n",
      "Index(['col0', 'col1', 'col2'], dtype='object')\n",
      "(3, 3)\n",
      "     row_0 row_1 row_2\n",
      "col0     1     2     3\n",
      "col1     a     b     c\n",
      "col2   1.2   2.2   3.2\n"
     ]
    }
   ],
   "source": [
    "# 获取对应属性\n",
    "print(demo.values)\n",
    "print(demo.dtypes)\n",
    "print(demo.index)\n",
    "print(demo.columns)\n",
    "print(demo.shape)\n",
    "\n",
    "print(df.T)"
   ]
  },
  {
   "cell_type": "markdown",
   "metadata": {},
   "source": [
    "### 2.3常用基本函数"
   ]
  },
  {
   "cell_type": "code",
   "execution_count": 59,
   "metadata": {},
   "outputs": [],
   "source": [
    "demo = pd.read_csv('data/learn_pandas.csv')\n",
    "# 取前7列\n",
    "demo = demo[demo.columns[:7]]"
   ]
  },
  {
   "cell_type": "markdown",
   "metadata": {},
   "source": [
    "#### 汇总函数"
   ]
  },
  {
   "cell_type": "code",
   "execution_count": 60,
   "metadata": {},
   "outputs": [
    {
     "name": "stdout",
     "output_type": "stream",
     "text": [
      "<class 'pandas.core.frame.DataFrame'>\n",
      "RangeIndex: 200 entries, 0 to 199\n",
      "Data columns (total 7 columns):\n",
      " #   Column    Non-Null Count  Dtype  \n",
      "---  ------    --------------  -----  \n",
      " 0   School    200 non-null    object \n",
      " 1   Grade     200 non-null    object \n",
      " 2   Name      200 non-null    object \n",
      " 3   Gender    200 non-null    object \n",
      " 4   Height    183 non-null    float64\n",
      " 5   Weight    189 non-null    float64\n",
      " 6   Transfer  188 non-null    object \n",
      "dtypes: float64(2), object(5)\n",
      "memory usage: 11.1+ KB\n"
     ]
    },
    {
     "data": {
      "text/html": [
       "<div>\n",
       "<style scoped>\n",
       "    .dataframe tbody tr th:only-of-type {\n",
       "        vertical-align: middle;\n",
       "    }\n",
       "\n",
       "    .dataframe tbody tr th {\n",
       "        vertical-align: top;\n",
       "    }\n",
       "\n",
       "    .dataframe thead th {\n",
       "        text-align: right;\n",
       "    }\n",
       "</style>\n",
       "<table border=\"1\" class=\"dataframe\">\n",
       "  <thead>\n",
       "    <tr style=\"text-align: right;\">\n",
       "      <th></th>\n",
       "      <th>Height</th>\n",
       "      <th>Weight</th>\n",
       "    </tr>\n",
       "  </thead>\n",
       "  <tbody>\n",
       "    <tr>\n",
       "      <th>count</th>\n",
       "      <td>183.000000</td>\n",
       "      <td>189.000000</td>\n",
       "    </tr>\n",
       "    <tr>\n",
       "      <th>mean</th>\n",
       "      <td>163.218033</td>\n",
       "      <td>55.015873</td>\n",
       "    </tr>\n",
       "    <tr>\n",
       "      <th>std</th>\n",
       "      <td>8.608879</td>\n",
       "      <td>12.824294</td>\n",
       "    </tr>\n",
       "    <tr>\n",
       "      <th>min</th>\n",
       "      <td>145.400000</td>\n",
       "      <td>34.000000</td>\n",
       "    </tr>\n",
       "    <tr>\n",
       "      <th>25%</th>\n",
       "      <td>157.150000</td>\n",
       "      <td>46.000000</td>\n",
       "    </tr>\n",
       "    <tr>\n",
       "      <th>50%</th>\n",
       "      <td>161.900000</td>\n",
       "      <td>51.000000</td>\n",
       "    </tr>\n",
       "    <tr>\n",
       "      <th>75%</th>\n",
       "      <td>167.500000</td>\n",
       "      <td>65.000000</td>\n",
       "    </tr>\n",
       "    <tr>\n",
       "      <th>max</th>\n",
       "      <td>193.900000</td>\n",
       "      <td>89.000000</td>\n",
       "    </tr>\n",
       "  </tbody>\n",
       "</table>\n",
       "</div>"
      ],
      "text/plain": [
       "           Height      Weight\n",
       "count  183.000000  189.000000\n",
       "mean   163.218033   55.015873\n",
       "std      8.608879   12.824294\n",
       "min    145.400000   34.000000\n",
       "25%    157.150000   46.000000\n",
       "50%    161.900000   51.000000\n",
       "75%    167.500000   65.000000\n",
       "max    193.900000   89.000000"
      ]
     },
     "execution_count": 60,
     "metadata": {},
     "output_type": "execute_result"
    }
   ],
   "source": [
    "# 取前n行-head(n),tail(n),默认5行\n",
    "demo.head(2)\n",
    "\n",
    "# info和describe只能显示较少的信息\n",
    "demo.info() # 返回表的信息概况\n",
    "demo.describe() # 数值列对应的统计量"
   ]
  },
  {
   "cell_type": "markdown",
   "metadata": {},
   "source": [
    "#### 特征统计函数"
   ]
  },
  {
   "cell_type": "code",
   "execution_count": 61,
   "metadata": {},
   "outputs": [
    {
     "data": {
      "text/plain": [
       "0    102.45\n",
       "1    118.25\n",
       "2    138.95\n",
       "3     41.00\n",
       "4    124.00\n",
       "dtype: float64"
      ]
     },
     "execution_count": 61,
     "metadata": {},
     "output_type": "execute_result"
    }
   ],
   "source": [
    "df_demo = demo[['Height', 'Weight']]\n",
    "\n",
    "# 聚合函数\n",
    "df_demo.mean() # 对其中的数据列操作\n",
    "df_demo.count() # 非缺失值的个数\n",
    "df_demo.quantile()  # 返回分位数\n",
    "df_demo.idxmax()    # 最大值对应的索引\n",
    "\n",
    "df_demo.mean(axis=1).head()"
   ]
  },
  {
   "cell_type": "markdown",
   "metadata": {},
   "source": [
    "#### 唯一值函数"
   ]
  },
  {
   "cell_type": "code",
   "execution_count": 62,
   "metadata": {},
   "outputs": [
    {
     "data": {
      "text/plain": [
       "0      False\n",
       "1      False\n",
       "2       True\n",
       "3       True\n",
       "4       True\n",
       "       ...  \n",
       "195     True\n",
       "196     True\n",
       "197     True\n",
       "198     True\n",
       "199     True\n",
       "Length: 200, dtype: bool"
      ]
     },
     "execution_count": 62,
     "metadata": {},
     "output_type": "execute_result"
    }
   ],
   "source": [
    "demo['School'].unique() # 返回唯一值列表\n",
    "demo['School'].nunique()    # 唯一值的个数\n",
    "demo['School'].value_counts()   # 唯一值及对应的个数\n",
    "\n",
    "# 多个列组合的唯一值\n",
    "df_demo = demo[['Gender', 'Transfer', 'Name']]\n",
    "df_demo.drop_duplicates(['Gender', 'Transfer'], keep='first')   # 每个组合首次出现所在的行\n",
    "df_demo.drop_duplicates(['Gender', 'Transfer'], keep='last')    # 最后一次出现所在的行\n",
    "df_demo.drop_duplicates(['Name', 'Transfer'], keep=False)   # 去除重复组合，保留只出现一次的组合\n",
    "\n",
    "# 返回布尔列表，重复元素为True\n",
    "df_demo.duplicated(['Gender', 'Transfer'])"
   ]
  },
  {
   "cell_type": "markdown",
   "metadata": {},
   "source": [
    "#### 替换函数"
   ]
  },
  {
   "cell_type": "code",
   "execution_count": 63,
   "metadata": {},
   "outputs": [
    {
     "data": {
      "text/plain": [
       "0    a\n",
       "1    1\n",
       "2    1\n",
       "3    2\n",
       "4    1\n",
       "5    1\n",
       "6    1\n",
       "dtype: object"
      ]
     },
     "execution_count": 63,
     "metadata": {},
     "output_type": "execute_result"
    }
   ],
   "source": [
    "# 通过字典替换\n",
    "demo['Gender'].replace({'Female':0, 'Male':1}).head()\n",
    "# 通过列表替换\n",
    "demo['Gender'].replace(['Female', 'Male'], [0, 1]).head()\n",
    "\n",
    "# method=ffill/bfill特殊方向替换\n",
    "s_demo = pd.Series(['a', 1, 'b', 2, 1, 1, 'a'])\n",
    "s_demo.replace([1, 2], method='ffill')  # 对1，2用前面未被替换的值进行替换\n",
    "s_demo.replace([1, 2], method='bfill')  # 对1，2用后面未被替换的值进行替换\n",
    "s_demo.replace('a', method='bfill')  # 对1，2用后面未被替换的值进行替换\n",
    "s_demo.replace(['a', 'b'], method='ffill')  # 对1，2用后面未被替换的值进行替换"
   ]
  },
  {
   "cell_type": "code",
   "execution_count": 64,
   "metadata": {},
   "outputs": [
    {
     "data": {
      "text/plain": [
       "0    0.00\n",
       "1    1.23\n",
       "2    2.00\n",
       "3    0.00\n",
       "dtype: float64"
      ]
     },
     "execution_count": 64,
     "metadata": {},
     "output_type": "execute_result"
    }
   ],
   "source": [
    "# 逻辑替换\n",
    "s_demo = pd.Series([-1, 1.23, 100.789, -9])\n",
    "s_demo.where(s_demo>0, '小于0')  # where函数在条件为false时进行替换，未指定替换值时，替换为缺失值\n",
    "s_demo.mask(s_demo>0, '大于0')  # mask函数在条件为true时进行替换\n",
    "\n",
    "# print(s_demo.index)\n",
    "s_demo.mask([True, False, False, True], '布尔替换')\n",
    "\n",
    "s_demo.round(2) # 四舍五入，保留2位小数\n",
    "s_demo.clip(0, 2)   # 上下截断边界"
   ]
  },
  {
   "cell_type": "markdown",
   "metadata": {},
   "source": [
    "#### 排序函数"
   ]
  },
  {
   "cell_type": "code",
   "execution_count": 65,
   "metadata": {},
   "outputs": [
    {
     "name": "stdout",
     "output_type": "stream",
     "text": [
      "                          Height  Weight\n",
      "Grade     Name                          \n",
      "Freshman  Gaopeng Yang     158.9    46.0\n",
      "          Changqiang You   166.5    70.0\n",
      "Senior    Mei Sun          188.9    89.0\n",
      "Sophomore Xiaojuan Sun       NaN    41.0\n",
      "          Gaojuan You      174.0    74.0\n",
      "...                          ...     ...\n",
      "Junior    Xiaojuan Sun     153.9    46.0\n",
      "Senior    Li Zhao          160.9    50.0\n",
      "          Chengqiang Chu   153.9    45.0\n",
      "          Chengmei Shen    175.3    71.0\n",
      "Sophomore Chunpeng Lv      155.7    51.0\n",
      "\n",
      "[200 rows x 2 columns]\n"
     ]
    },
    {
     "data": {
      "text/html": [
       "<div>\n",
       "<style scoped>\n",
       "    .dataframe tbody tr th:only-of-type {\n",
       "        vertical-align: middle;\n",
       "    }\n",
       "\n",
       "    .dataframe tbody tr th {\n",
       "        vertical-align: top;\n",
       "    }\n",
       "\n",
       "    .dataframe thead th {\n",
       "        text-align: right;\n",
       "    }\n",
       "</style>\n",
       "<table border=\"1\" class=\"dataframe\">\n",
       "  <thead>\n",
       "    <tr style=\"text-align: right;\">\n",
       "      <th></th>\n",
       "      <th></th>\n",
       "      <th>Height</th>\n",
       "      <th>Weight</th>\n",
       "    </tr>\n",
       "    <tr>\n",
       "      <th>Grade</th>\n",
       "      <th>Name</th>\n",
       "      <th></th>\n",
       "      <th></th>\n",
       "    </tr>\n",
       "  </thead>\n",
       "  <tbody>\n",
       "    <tr>\n",
       "      <th rowspan=\"5\" valign=\"top\">Freshman</th>\n",
       "      <th>Yanquan Wang</th>\n",
       "      <td>163.5</td>\n",
       "      <td>55.0</td>\n",
       "    </tr>\n",
       "    <tr>\n",
       "      <th>Yanqiang Xu</th>\n",
       "      <td>152.4</td>\n",
       "      <td>38.0</td>\n",
       "    </tr>\n",
       "    <tr>\n",
       "      <th>Yanqiang Feng</th>\n",
       "      <td>162.3</td>\n",
       "      <td>51.0</td>\n",
       "    </tr>\n",
       "    <tr>\n",
       "      <th>Yanpeng Lv</th>\n",
       "      <td>NaN</td>\n",
       "      <td>65.0</td>\n",
       "    </tr>\n",
       "    <tr>\n",
       "      <th>Yanli Zhang</th>\n",
       "      <td>165.1</td>\n",
       "      <td>52.0</td>\n",
       "    </tr>\n",
       "  </tbody>\n",
       "</table>\n",
       "</div>"
      ],
      "text/plain": [
       "                        Height  Weight\n",
       "Grade    Name                         \n",
       "Freshman Yanquan Wang    163.5    55.0\n",
       "         Yanqiang Xu     152.4    38.0\n",
       "         Yanqiang Feng   162.3    51.0\n",
       "         Yanpeng Lv        NaN    65.0\n",
       "         Yanli Zhang     165.1    52.0"
      ]
     },
     "execution_count": 65,
     "metadata": {},
     "output_type": "execute_result"
    }
   ],
   "source": [
    "# 值排序和索引排序,将Gender,Name列作为索引\n",
    "df_demo = demo[['Grade', 'Name', 'Height', 'Weight']].set_index(['Grade', 'Name'])\n",
    "print(df_demo)\n",
    "\n",
    "# 对身高进行排序,默认ascending=True为升序\n",
    "df_demo.sort_values('Height').head(10)\n",
    "\n",
    "# 在体重相同的情况下，对身高进行排序\n",
    "df_demo.sort_values(['Weight', 'Height'], ascending=[True, False]).head()\n",
    "\n",
    "# 指定索引层名字或编号,只针对设置的索引\n",
    "df_demo.sort_index(level=['Grade', 'Name'], ascending=[True, False]).head()"
   ]
  },
  {
   "cell_type": "markdown",
   "metadata": {},
   "source": [
    "#### apply 方法"
   ]
  },
  {
   "cell_type": "code",
   "execution_count": 66,
   "metadata": {},
   "outputs": [
    {
     "data": {
      "text/plain": [
       "Weight    10.391870\n",
       "Height     6.707229\n",
       "dtype: float64"
      ]
     },
     "execution_count": 66,
     "metadata": {},
     "output_type": "execute_result"
    }
   ],
   "source": [
    "# apply的自由度很高，但是以性能为代价\n",
    "df_demo = demo[['Weight', 'Height']]\n",
    "# apply方法常用于行迭代或列迭代\n",
    "df_demo.apply(lambda x:x.mean(), axis=1).head() # 逐行均值\n",
    "\n",
    "df_demo.apply(lambda x:(x-x.mean()).abs().mean())"
   ]
  },
  {
   "cell_type": "markdown",
   "metadata": {},
   "source": [
    "### 2.4窗口对象"
   ]
  },
  {
   "cell_type": "markdown",
   "metadata": {},
   "source": [
    "#### 滑动窗口"
   ]
  },
  {
   "cell_type": "code",
   "execution_count": 67,
   "metadata": {},
   "outputs": [
    {
     "name": "stdout",
     "output_type": "stream",
     "text": [
      "0     NaN\n",
      "1     NaN\n",
      "2     6.0\n",
      "3     9.0\n",
      "4    12.0\n",
      "dtype: float64\n"
     ]
    },
    {
     "data": {
      "text/plain": [
       "0         NaN\n",
       "1         NaN\n",
       "2    0.998625\n",
       "3    0.993399\n",
       "4    0.996099\n",
       "dtype: float64"
      ]
     },
     "execution_count": 67,
     "metadata": {},
     "output_type": "execute_result"
    }
   ],
   "source": [
    "# 滑动对象\n",
    "demo = pd.Series([1,2,3,4,5])\n",
    "roller = demo.rolling(window=3) # 窗口大小window\n",
    "print(roller.sum())\n",
    "# 滑动窗口包含当前行所在的元素\n",
    "roller.mean()\n",
    "roller.apply(lambda x: x.mean())\n",
    "\n",
    "demo_contrast = pd.Series([9, 10, 11.2, 12, 13.09])\n",
    "demo.cov(demo_contrast)\n",
    "roller.cov(demo_contrast) # 滑动相关系数\n",
    "roller.corr(demo_contrast)  # 滑动协方差"
   ]
  },
  {
   "cell_type": "code",
   "execution_count": 68,
   "metadata": {},
   "outputs": [
    {
     "name": "stdout",
     "output_type": "stream",
     "text": [
      "0    -2\n",
      "1     1\n",
      "2    10\n",
      "3     8\n",
      "4     9\n",
      "dtype: int64\n",
      "0    10.0\n",
      "1     8.0\n",
      "2     9.0\n",
      "3     NaN\n",
      "4     NaN\n",
      "dtype: float64\n"
     ]
    },
    {
     "data": {
      "text/plain": [
       "0    NaN\n",
       "1    NaN\n",
       "2   -6.0\n",
       "3    7.0\n",
       "4   -0.1\n",
       "dtype: float64"
      ]
     },
     "execution_count": 68,
     "metadata": {},
     "output_type": "execute_result"
    }
   ],
   "source": [
    "# 类滑窗函数\n",
    "demo = pd.Series([-2, 1, 10, 8, 9])\n",
    "print(demo)\n",
    "demo.shift(2)   # 数字对应的索引向前\n",
    "print(demo.shift(-2))   # 数字对应的索引向前\n",
    "demo.diff(3)    # 与2各索引前的数字做差,10-(-2),8-1\n",
    "demo.pct_change(2)  # 与索引前的第2各元素相比增长率12/(-2),7/1"
   ]
  },
  {
   "cell_type": "code",
   "execution_count": 69,
   "metadata": {},
   "outputs": [
    {
     "data": {
      "text/plain": [
       "0    3.0\n",
       "1    5.0\n",
       "2    NaN\n",
       "dtype: float64"
      ]
     },
     "execution_count": 69,
     "metadata": {},
     "output_type": "execute_result"
    }
   ],
   "source": [
    "# 用窗口大小为n+1的rolling代替shift(2)\n",
    "demo.rolling(3).apply(lambda x: list(x)[0])\n",
    "\n",
    "# demo.diff(3)\n",
    "demo.rolling(4).apply(lambda x: list(x)[-1] - list(x)[0])\n",
    "\n",
    "demo_back = pd.Series([1,2,3])\n",
    "# 向后窗口并求和\n",
    "demo_back.rolling(2).sum().shift(-1)    # 移动距离为窗口大小-1"
   ]
  },
  {
   "cell_type": "markdown",
   "metadata": {},
   "source": [
    "#### 扩展窗口"
   ]
  },
  {
   "cell_type": "code",
   "execution_count": 71,
   "metadata": {},
   "outputs": [
    {
     "data": {
      "text/plain": [
       "0     1.0\n",
       "1     3.0\n",
       "2     6.0\n",
       "3    10.0\n",
       "dtype: float64"
      ]
     },
     "execution_count": 71,
     "metadata": {},
     "output_type": "execute_result"
    }
   ],
   "source": [
    "# 动态长度的窗口\n",
    "# 从序列开始到具体的操作位置\n",
    "demo = pd.Series([1,2,3,4])\n",
    "# (1),(1+2),(1+2+3),(1+2+3+4)\n",
    "demo.expanding().mean()\n",
    "demo.expanding().sum()\n",
    "# cumsum,cummax,cumprod 类扩张窗口"
   ]
  }
 ],
 "metadata": {
  "kernelspec": {
   "display_name": "Python 3",
   "language": "python",
   "name": "python3"
  },
  "language_info": {
   "codemirror_mode": {
    "name": "ipython",
    "version": 3
   },
   "file_extension": ".py",
   "mimetype": "text/x-python",
   "name": "python",
   "nbconvert_exporter": "python",
   "pygments_lexer": "ipython3",
   "version": "3.8.18"
  }
 },
 "nbformat": 4,
 "nbformat_minor": 2
}
